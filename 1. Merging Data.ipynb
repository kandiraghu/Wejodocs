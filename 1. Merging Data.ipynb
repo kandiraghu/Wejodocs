{
 "cells": [
  {
   "cell_type": "markdown",
   "metadata": {},
   "source": [
    "### 0. Importing Libraries"
   ]
  },
  {
   "cell_type": "code",
   "execution_count": 1,
   "metadata": {},
   "outputs": [],
   "source": [
    "import pandas as pd\n",
    "import numpy as np\n",
    "import matplotlib.pyplot as pyplot\n",
    "import glob\n",
    "\n",
    "pc = \"raghukan\"\n",
    "path =  \"C:/Users/\"+pc+\"/OneDrive - Iowa State University/Research/19. Crash_DMS/1. Crash Data/\""
   ]
  },
  {
   "cell_type": "markdown",
   "metadata": {},
   "source": [
    "### 1. Merging all crash files"
   ]
  },
  {
   "cell_type": "code",
   "execution_count": null,
   "metadata": {},
   "outputs": [
    {
     "name": "stdout",
     "output_type": "stream",
     "text": [
      "1 2 3 4 68854\n"
     ]
    }
   ],
   "source": [
    "files = glob.glob(path + \"/*.csv\")\n",
    "li = []\n",
    "for filename in files:\n",
    "    dbf = pd.read_csv(filename, index_col=None, header=0)\n",
    "    li.append(dbf)\n",
    "    print(len(li), end=\" \")\n",
    "df2 = pd.concat(li, axis=0, ignore_index=True)\n",
    "print(len(df2))"
   ]
  },
  {
   "cell_type": "code",
   "execution_count": 18,
   "metadata": {},
   "outputs": [],
   "source": [
    "df3 =df2[['CRASH_KEY', 'CRASH_DATE', 'CRASHMONTH', 'DAYOFMONTH', 'CRASH_YEAR',\n",
    "       'CRASH_DAY', 'CRASH_TIME', 'TIMESTR','COUNTY', 'CSEVERITY', 'FATALITIES', \n",
    "       'INJURIES', 'MAJINJURY', 'MININJURY', 'POSSINJURY', 'UNKINJURY', 'PROPDMG', \n",
    "       'VEHICLES', 'TOCCUPANTS','ROUTEID', 'MEASURE', 'LATITUDE', 'LONGITUDE','CASENUMBER']]"
   ]
  },
  {
   "cell_type": "code",
   "execution_count": 18,
   "metadata": {},
   "outputs": [],
   "source": [
    "ndf = pd.read_csv(path+\"4. All wednesday crashes.csv\")\n",
    "ndf1 =ndf[['CRASH_KEY', 'CRASH_DATE', 'CRASHMONTH', 'DAYOFMONTH', 'CRASH_YEAR',\n",
    "       'CRASH_DAY', 'CRASH_TIME', 'TIMESTR','COUNTY', 'CSEVERITY', 'FATALITIES', \n",
    "       'INJURIES', 'MAJINJURY', 'MININJURY', 'POSSINJURY', 'UNKINJURY', 'PROPDMG', \n",
    "       'VEHICLES', 'TOCCUPANTS','ROUTEID', 'MEASURE', 'LATITUDE', 'LONGITUDE','CASENUMBER']]"
   ]
  },
  {
   "cell_type": "code",
   "execution_count": 19,
   "metadata": {},
   "outputs": [],
   "source": [
    "# df3.to_csv(path+\"DMS_Crashs.csv\", index = False)\n",
    "ndf1.to_csv(path+\"4.1 All wednesday crashes cleaned.csv\", index = False)"
   ]
  },
  {
   "cell_type": "markdown",
   "metadata": {},
   "source": [
    "### 2. Filtering crash counts for DMS locations and preparing counts"
   ]
  },
  {
   "cell_type": "markdown",
   "metadata": {},
   "source": [
    "#### 2.1 Filtering Mondays and Fridays for DMS signs"
   ]
  },
  {
   "cell_type": "code",
   "execution_count": 13,
   "metadata": {},
   "outputs": [
    {
     "name": "stdout",
     "output_type": "stream",
     "text": [
      "68854 75\n"
     ]
    }
   ],
   "source": [
    "crash_dms = pd.read_csv(path+\"1. DMS_Crashs.csv\")\n",
    "dms = pd.read_csv(path+\"2. dms_oh_loc_buffer.csv\")\n",
    "print(len(crash_dms), len(dms))"
   ]
  },
  {
   "cell_type": "code",
   "execution_count": 15,
   "metadata": {},
   "outputs": [
    {
     "name": "stdout",
     "output_type": "stream",
     "text": [
      "3 3|237 240|134 374|83 457|70 527|88 615|18 633|49 682|17 699|30 729|15 744|20 764|10 774|8 782|8 790|32 822|27 849|40 889|44 933|13 946|124 1070|0 1070|53 1123|40 1163|0 1163|33 1196|31 1227|16 1243|66 1309|44 1353|86 1439|90 1529|22 1551|70 1621|66 1687|29 1716|0 1716|34 1750|48 1798|27 1825|44 1869|0 1869|65 1934|19 1953|32 1985|98 2083|108 2191|131 2322|45 2367|63 2430|48 2478|2 2480|36 2516|58 2574|115 2689|126 2815|1 2816|86 2902|98 3000|25 3025|39 3064|51 3115|61 3176|28 3204|14 3218|144 3362|0 3362|0 3362|22 3384|12 3396|23 3419|12 3431|34 3465|17 3482|9 3491|"
     ]
    }
   ],
   "source": [
    "# create empty dataframe for appedning filtered data\n",
    "import warnings; warnings.simplefilter('ignore')\n",
    "filtered_crashes = pd.DataFrame([])\n",
    "for dms_loc in np.unique(dms[\"device_name\"]):\n",
    "    loc = dms[dms[\"device_name\"]== dms_loc].reset_index()\n",
    "    meas_start = loc.at[0,\"segment_start_measure\"] - loc.at[0,\"cutoff_before\"]\n",
    "    meas_end = loc.at[0,\"segment_end_measure\"] + loc.at[0,\"cutoff_after\"] \n",
    "    rid = loc.at[0,\"route_id\"]\n",
    "    f_crashes = crash_dms[(crash_dms[\"ROUTEID\"] == rid) & (crash_dms[\"MEASURE\"] >= meas_start) & (crash_dms[\"MEASURE\"] <= meas_end)]\n",
    "    f_crashes[\"DMS\"] = dms_loc\n",
    "    filtered_crashes = filtered_crashes._append(f_crashes)\n",
    "    print(len(f_crashes), len(filtered_crashes), end =\"|\")  "
   ]
  },
  {
   "cell_type": "code",
   "execution_count": 44,
   "metadata": {},
   "outputs": [],
   "source": [
    "# filtered_crashes.to_csv(path+\"3. Filtered_crashes_dms.csv\", index = False)"
   ]
  },
  {
   "cell_type": "markdown",
   "metadata": {},
   "source": [
    "#### 2.2 Filtering Wednesday for non DMS signs "
   ]
  },
  {
   "cell_type": "code",
   "execution_count": 20,
   "metadata": {},
   "outputs": [
    {
     "name": "stdout",
     "output_type": "stream",
     "text": [
      "64949\n"
     ]
    }
   ],
   "source": [
    "crash_non_dms = pd.read_csv(path+\"4.1 All wednesday crashes cleaned.csv\")\n",
    "print(len(crash_non_dms))"
   ]
  },
  {
   "cell_type": "code",
   "execution_count": 21,
   "metadata": {},
   "outputs": [
    {
     "name": "stdout",
     "output_type": "stream",
     "text": [
      "3 3|252 255|119 374|91 465|56 521|63 584|18 602|43 645|21 666|26 692|17 709|10 719|18 737|3 740|4 744|35 779|19 798|33 831|48 879|24 903|109 1012|0 1012|40 1052|63 1115|1 1116|25 1141|22 1163|16 1179|48 1227|13 1240|81 1321|74 1395|17 1412|61 1473|39 1512|24 1536|2 1538|30 1568|38 1606|27 1633|25 1658|0 1658|86 1744|10 1754|34 1788|95 1883|94 1977|92 2069|43 2112|55 2167|47 2214|0 2214|22 2236|53 2289|74 2363|100 2463|4 2467|52 2519|110 2629|29 2658|37 2695|38 2733|54 2787|12 2799|9 2808|120 2928|0 2928|1 2929|14 2943|20 2963|34 2997|28 3025|35 3060|16 3076|23 3099|"
     ]
    }
   ],
   "source": [
    "import warnings; warnings.simplefilter('ignore')\n",
    "filtered_crashes = pd.DataFrame([])\n",
    "for dms_loc in np.unique(dms[\"device_name\"]):\n",
    "    loc = dms[dms[\"device_name\"]== dms_loc].reset_index()\n",
    "    meas_start = loc.at[0,\"segment_start_measure\"] - loc.at[0,\"cutoff_before\"]\n",
    "    meas_end = loc.at[0,\"segment_end_measure\"] + loc.at[0,\"cutoff_after\"] \n",
    "    rid = loc.at[0,\"route_id\"]\n",
    "    f_crashes = crash_non_dms[(crash_non_dms[\"ROUTEID\"] == rid) & (crash_non_dms[\"MEASURE\"] >= meas_start) & (crash_non_dms[\"MEASURE\"] <= meas_end)]\n",
    "    f_crashes[\"DMS\"] = dms_loc\n",
    "    filtered_crashes = filtered_crashes._append(f_crashes)\n",
    "    print(len(f_crashes), len(filtered_crashes), end =\"|\")  "
   ]
  },
  {
   "cell_type": "code",
   "execution_count": 22,
   "metadata": {},
   "outputs": [],
   "source": [
    "filtered_crashes.to_csv(path+\"5. Filtered_crashes_nondms.csv\", index = False)"
   ]
  },
  {
   "cell_type": "markdown",
   "metadata": {},
   "source": [
    "#### 2.3 Merging dms and non dms signs"
   ]
  },
  {
   "cell_type": "code",
   "execution_count": 23,
   "metadata": {},
   "outputs": [],
   "source": [
    "dms_crashes = pd.read_csv(path+\"3. Filtered_crashes_dms.csv\")\n",
    "non_dms_crashes = pd.read_csv(path+\"5. Filtered_crashes_nondms.csv\")\n",
    "dms_crashes[\"DMS_Day\"] = \"Message_Displayed\"\n",
    "non_dms_crashes[\"DMS_Day\"] = \"Message_Not_Displayed\""
   ]
  },
  {
   "cell_type": "code",
   "execution_count": 50,
   "metadata": {},
   "outputs": [],
   "source": [
    "all_crashes = pd.concat([dms_crashes,non_dms_crashes], axis= 0).reset_index(drop=True)\n",
    "# all_crashes.head(1)\n",
    "# all_crashes.to_csv(path+\"6. All_Filtered_crashes.csv\", index = False)"
   ]
  },
  {
   "cell_type": "markdown",
   "metadata": {},
   "source": [
    "#### 2.4 Grouping and Counting"
   ]
  },
  {
   "cell_type": "code",
   "execution_count": 48,
   "metadata": {},
   "outputs": [],
   "source": [
    "day_counts = all_crashes[['DMS','CRASH_YEAR', 'CRASHMONTH', 'DAYOFMONTH','CRASH_KEY']].groupby(['DMS','CRASH_YEAR', 'CRASHMONTH', 'DAYOFMONTH']).count().reset_index()\n",
    "day_counts = day_counts.sort_values(by= ['DMS','CRASH_YEAR', 'CRASHMONTH', 'DAYOFMONTH'])"
   ]
  },
  {
   "cell_type": "code",
   "execution_count": 51,
   "metadata": {},
   "outputs": [],
   "source": [
    "day_counts.to_csv(path+\"7. Day_Group.csv\", index = False)"
   ]
  },
  {
   "cell_type": "code",
   "execution_count": 49,
   "metadata": {},
   "outputs": [
    {
     "data": {
      "text/html": [
       "<div>\n",
       "<style scoped>\n",
       "    .dataframe tbody tr th:only-of-type {\n",
       "        vertical-align: middle;\n",
       "    }\n",
       "\n",
       "    .dataframe tbody tr th {\n",
       "        vertical-align: top;\n",
       "    }\n",
       "\n",
       "    .dataframe thead th {\n",
       "        text-align: right;\n",
       "    }\n",
       "</style>\n",
       "<table border=\"1\" class=\"dataframe\">\n",
       "  <thead>\n",
       "    <tr style=\"text-align: right;\">\n",
       "      <th></th>\n",
       "      <th>DMS</th>\n",
       "      <th>CRASH_YEAR</th>\n",
       "      <th>CRASHMONTH</th>\n",
       "      <th>DAYOFMONTH</th>\n",
       "      <th>CRASH_KEY</th>\n",
       "    </tr>\n",
       "  </thead>\n",
       "  <tbody>\n",
       "    <tr>\n",
       "      <th>0</th>\n",
       "      <td>I-235 EB @ 31st St-OH</td>\n",
       "      <td>2017</td>\n",
       "      <td>3</td>\n",
       "      <td>13</td>\n",
       "      <td>1</td>\n",
       "    </tr>\n",
       "    <tr>\n",
       "      <th>1</th>\n",
       "      <td>I-235 EB @ 31st St-OH</td>\n",
       "      <td>2019</td>\n",
       "      <td>5</td>\n",
       "      <td>22</td>\n",
       "      <td>1</td>\n",
       "    </tr>\n",
       "    <tr>\n",
       "      <th>2</th>\n",
       "      <td>I-235 EB @ 31st St-OH</td>\n",
       "      <td>2023</td>\n",
       "      <td>1</td>\n",
       "      <td>4</td>\n",
       "      <td>1</td>\n",
       "    </tr>\n",
       "    <tr>\n",
       "      <th>3</th>\n",
       "      <td>I-235 EB @ 31st St-OH</td>\n",
       "      <td>2023</td>\n",
       "      <td>7</td>\n",
       "      <td>12</td>\n",
       "      <td>1</td>\n",
       "    </tr>\n",
       "    <tr>\n",
       "      <th>4</th>\n",
       "      <td>I-235 EB @ 31st St-OH</td>\n",
       "      <td>2023</td>\n",
       "      <td>9</td>\n",
       "      <td>22</td>\n",
       "      <td>1</td>\n",
       "    </tr>\n",
       "    <tr>\n",
       "      <th>...</th>\n",
       "      <td>...</td>\n",
       "      <td>...</td>\n",
       "      <td>...</td>\n",
       "      <td>...</td>\n",
       "      <td>...</td>\n",
       "    </tr>\n",
       "    <tr>\n",
       "      <th>5446</th>\n",
       "      <td>US 30 WB @ Kirkwood - OH - *Offline for Constr...</td>\n",
       "      <td>2022</td>\n",
       "      <td>10</td>\n",
       "      <td>19</td>\n",
       "      <td>3</td>\n",
       "    </tr>\n",
       "    <tr>\n",
       "      <th>5447</th>\n",
       "      <td>US 30 WB @ Kirkwood - OH - *Offline for Constr...</td>\n",
       "      <td>2023</td>\n",
       "      <td>2</td>\n",
       "      <td>17</td>\n",
       "      <td>1</td>\n",
       "    </tr>\n",
       "    <tr>\n",
       "      <th>5448</th>\n",
       "      <td>US 30 WB @ Kirkwood - OH - *Offline for Constr...</td>\n",
       "      <td>2023</td>\n",
       "      <td>4</td>\n",
       "      <td>26</td>\n",
       "      <td>1</td>\n",
       "    </tr>\n",
       "    <tr>\n",
       "      <th>5449</th>\n",
       "      <td>US 30 WB @ Kirkwood - OH - *Offline for Constr...</td>\n",
       "      <td>2023</td>\n",
       "      <td>5</td>\n",
       "      <td>10</td>\n",
       "      <td>2</td>\n",
       "    </tr>\n",
       "    <tr>\n",
       "      <th>5450</th>\n",
       "      <td>US 30 WB @ Kirkwood - OH - *Offline for Constr...</td>\n",
       "      <td>2023</td>\n",
       "      <td>10</td>\n",
       "      <td>25</td>\n",
       "      <td>1</td>\n",
       "    </tr>\n",
       "  </tbody>\n",
       "</table>\n",
       "<p>5451 rows × 5 columns</p>\n",
       "</div>"
      ],
      "text/plain": [
       "                                                    DMS  CRASH_YEAR  \\\n",
       "0                                 I-235 EB @ 31st St-OH        2017   \n",
       "1                                 I-235 EB @ 31st St-OH        2019   \n",
       "2                                 I-235 EB @ 31st St-OH        2023   \n",
       "3                                 I-235 EB @ 31st St-OH        2023   \n",
       "4                                 I-235 EB @ 31st St-OH        2023   \n",
       "...                                                 ...         ...   \n",
       "5446  US 30 WB @ Kirkwood - OH - *Offline for Constr...        2022   \n",
       "5447  US 30 WB @ Kirkwood - OH - *Offline for Constr...        2023   \n",
       "5448  US 30 WB @ Kirkwood - OH - *Offline for Constr...        2023   \n",
       "5449  US 30 WB @ Kirkwood - OH - *Offline for Constr...        2023   \n",
       "5450  US 30 WB @ Kirkwood - OH - *Offline for Constr...        2023   \n",
       "\n",
       "      CRASHMONTH  DAYOFMONTH  CRASH_KEY  \n",
       "0              3          13          1  \n",
       "1              5          22          1  \n",
       "2              1           4          1  \n",
       "3              7          12          1  \n",
       "4              9          22          1  \n",
       "...          ...         ...        ...  \n",
       "5446          10          19          3  \n",
       "5447           2          17          1  \n",
       "5448           4          26          1  \n",
       "5449           5          10          2  \n",
       "5450          10          25          1  \n",
       "\n",
       "[5451 rows x 5 columns]"
      ]
     },
     "execution_count": 49,
     "metadata": {},
     "output_type": "execute_result"
    }
   ],
   "source": [
    "day_counts"
   ]
  },
  {
   "cell_type": "code",
   "execution_count": 36,
   "metadata": {},
   "outputs": [
    {
     "data": {
      "text/plain": [
       "Index(['CRASH_KEY', 'CRASH_DATE', 'CRASHMONTH', 'DAYOFMONTH', 'CRASH_YEAR',\n",
       "       'CRASH_DAY', 'CRASH_TIME', 'TIMESTR', 'COUNTY', 'CSEVERITY',\n",
       "       'FATALITIES', 'INJURIES', 'MAJINJURY', 'MININJURY', 'POSSINJURY',\n",
       "       'UNKINJURY', 'PROPDMG', 'VEHICLES', 'TOCCUPANTS', 'ROUTEID', 'MEASURE',\n",
       "       'LATITUDE', 'LONGITUDE', 'CASENUMBER', 'DMS', 'DMS_Day'],\n",
       "      dtype='object')"
      ]
     },
     "execution_count": 36,
     "metadata": {},
     "output_type": "execute_result"
    }
   ],
   "source": [
    "all_crashes.columns"
   ]
  },
  {
   "cell_type": "code",
   "execution_count": null,
   "metadata": {},
   "outputs": [],
   "source": []
  }
 ],
 "metadata": {
  "kernelspec": {
   "display_name": "Python 3 (ipykernel)",
   "language": "python",
   "name": "python3"
  },
  "language_info": {
   "codemirror_mode": {
    "name": "ipython",
    "version": 3
   },
   "file_extension": ".py",
   "mimetype": "text/x-python",
   "name": "python",
   "nbconvert_exporter": "python",
   "pygments_lexer": "ipython3",
   "version": "3.9.7"
  }
 },
 "nbformat": 4,
 "nbformat_minor": 4
}
